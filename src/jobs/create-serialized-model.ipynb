{
 "cells": [
  {
   "cell_type": "code",
   "execution_count": 1,
   "metadata": {},
   "outputs": [],
   "source": [
    "%%capture\n",
    "import pandas as pd\n",
    "from sklearn import datasets\n",
    "from sklearn.ensemble import RandomForestClassifier\n",
    "import mlflow\n",
    "import mlflow.sklearn\n",
    "from mlflow.models.signature import infer_signature\n",
    "from mlflow.utils.environment import _mlflow_conda_env\n",
    "import shutil\n",
    "from glob import glob\n",
    "import os\n",
    "\n",
    "iris = datasets.load_iris()\n",
    "iris_train = pd.DataFrame(iris.data, columns=iris.feature_names)\n",
    "clf = RandomForestClassifier(max_depth=7, random_state=0)\n",
    "clf.fit(iris_train, iris.target)\n",
    "\n",
    "# Infer the signature from the training dataset and model's predictions\n",
    "signature = infer_signature(iris_train, clf.predict(iris_train))\n",
    "\n",
    "# Conda environment\n",
    "custom_env = _mlflow_conda_env(\n",
    "    additional_conda_deps=None,\n",
    "    additional_pip_deps=[\"xgboost==1.5.2\"],\n",
    "    additional_conda_channels=None,\n",
    ")\n",
    "\n",
    "# Sample\n",
    "input_sample = iris_train.sample(n=1)\n",
    "output_sample = clf.predict(input_sample)\n",
    "\n",
    "# Delete previous experiments by erase the folser mlruns\n",
    "if os.path.isdir(\"mlruns\"):\n",
    "    shutil.rmtree(\"./mlruns\")\n",
    "\n",
    "# Log the scikit-learn model with the custom signature\n",
    "mlflow.sklearn.log_model(\n",
    "    clf,\n",
    "    artifact_path=\"iris_rf\",\n",
    "    conda_env=custom_env,\n",
    "    signature=signature,\n",
    "    input_example=input_sample,\n",
    ")"
   ]
  },
  {
   "cell_type": "code",
   "execution_count": null,
   "metadata": {},
   "outputs": [
    {
     "name": "stdout",
     "output_type": "stream",
     "text": [
      "Overwriting models/score.py\n"
     ]
    }
   ],
   "source": [
    "%%writefile models/score.py\n",
    "import logging\n",
    "import os\n",
    "import json\n",
    "import mlflow\n",
    "from io import StringIO\n",
    "from mlflow.pyfunc.scoring_server import infer_and_parse_json_input, predictions_to_json\n",
    "import joblib\n",
    "\n",
    "\n",
    "def init():\n",
    "    global model\n",
    "    global input_schema\n",
    "    # \"model\" is the path of the mlflow artifacts when the model was registered. For automl\n",
    "    # models, this is generally \"mlflow-model\".\n",
    "    model_path = os.path.join(os.getenv(\"AZUREML_MODEL_DIR\"), \"model.pkl\")\n",
    "    model = joblib.load(model_path)\n",
    "    input_schema = model.metadata.get_input_schema()\n",
    "    logging.info(\"Init complete\")\n",
    "\n",
    "\n",
    "def run(raw_data):\n",
    "    json_data = json.loads(raw_data)\n",
    "    if \"input_data\" not in json_data.keys():\n",
    "        raise Exception(\"Request must contain a top level key named 'input_data'\")\n",
    "\n",
    "    serving_input = json.dumps(json_data[\"input_data\"])\n",
    "    data = infer_and_parse_json_input(serving_input, input_schema)\n",
    "    predictions = model.predict(data)\n",
    "\n",
    "    result = StringIO()\n",
    "    predictions_to_json(predictions, result)\n",
    "    logging.info(\"Request processed\")\n",
    "    return result.getvalue()"
   ]
  }
 ],
 "metadata": {
  "kernelspec": {
   "display_name": "ban",
   "language": "python",
   "name": "python3"
  },
  "language_info": {
   "codemirror_mode": {
    "name": "ipython",
    "version": 3
   },
   "file_extension": ".py",
   "mimetype": "text/x-python",
   "name": "python",
   "nbconvert_exporter": "python",
   "pygments_lexer": "ipython3",
   "version": "3.10.9"
  }
 },
 "nbformat": 4,
 "nbformat_minor": 2
}
