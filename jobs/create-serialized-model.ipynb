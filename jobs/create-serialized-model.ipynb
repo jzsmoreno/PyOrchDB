{
 "cells": [
  {
   "cell_type": "code",
   "execution_count": 1,
   "metadata": {},
   "outputs": [],
   "source": [
    "%%capture\n",
    "import pandas as pd\n",
    "from sklearn import datasets\n",
    "from sklearn.ensemble import RandomForestClassifier\n",
    "import mlflow\n",
    "import mlflow.sklearn\n",
    "from mlflow.models.signature import infer_signature\n",
    "from mlflow.utils.environment import _mlflow_conda_env\n",
    "import shutil\n",
    "from glob import glob\n",
    "import os\n",
    "\n",
    "iris = datasets.load_iris()\n",
    "iris_train = pd.DataFrame(iris.data, columns=iris.feature_names)\n",
    "clf = RandomForestClassifier(max_depth=7, random_state=0)\n",
    "clf.fit(iris_train, iris.target)\n",
    "\n",
    "# Infer the signature from the training dataset and model's predictions\n",
    "signature = infer_signature(iris_train, clf.predict(iris_train))\n",
    "\n",
    "# Conda environment\n",
    "custom_env = _mlflow_conda_env(\n",
    "    additional_conda_deps=None,\n",
    "    additional_pip_deps=[\"xgboost==1.5.2\"],\n",
    "    additional_conda_channels=None,\n",
    ")\n",
    "\n",
    "# Sample\n",
    "input_sample = iris_train.sample(n=1)\n",
    "output_sample = clf.predict(input_sample)\n",
    "\n",
    "# Delete previous experiments by erase the folser mlruns\n",
    "if os.path.isdir(\"mlruns\"):\n",
    "    shutil.rmtree(\"./mlruns\")\n",
    "\n",
    "# Log the scikit-learn model with the custom signature\n",
    "mlflow.sklearn.log_model(\n",
    "    clf,\n",
    "    artifact_path=\"iris_rf\",\n",
    "    conda_env=custom_env,\n",
    "    signature=signature,\n",
    "    input_example=input_sample,\n",
    ")"
   ]
  },
  {
   "cell_type": "code",
   "execution_count": 2,
   "metadata": {},
   "outputs": [
    {
     "name": "stdout",
     "output_type": "stream",
     "text": [
      "mlruns\\0\\dea885da1de943f88583fb951d7e7232\\artifacts\\iris_rf\\conda.yaml\n",
      "mlruns\\0\\dea885da1de943f88583fb951d7e7232\\artifacts\\iris_rf\\input_example.json\n",
      "mlruns\\0\\dea885da1de943f88583fb951d7e7232\\artifacts\\iris_rf\\model.pkl\n"
     ]
    }
   ],
   "source": [
    "destination_path = \"models\"\n",
    "# Move model.pkl using shutil\n",
    "for file in glob(\"mlruns/*/*/*/*/*\"):\n",
    "    if file.endswith(\"model.pkl\"):\n",
    "        print(file)  # Output: model.pkl\n",
    "        if os.path.isfile(file):\n",
    "            os.remove(destination_path + \"/model.pkl\")\n",
    "            shutil.move(file, destination_path)\n",
    "        else:\n",
    "            shutil.move(file, destination_path)\n",
    "    elif file.endswith(\"input_example.json\"):\n",
    "        print(file)  # Output: input_example.json\n",
    "        if os.path.isfile(file):\n",
    "            os.remove(destination_path + \"/input_example.json\")\n",
    "            shutil.move(file, destination_path)\n",
    "        else:\n",
    "            shutil.move(file, destination_path)\n",
    "    elif file.endswith(\"conda.yaml\"):\n",
    "        print(file)  # Output: conda.yaml\n",
    "        if os.path.isfile(file):\n",
    "            os.remove(destination_path + \"/conda.yaml\")\n",
    "            shutil.move(file, destination_path)\n",
    "        else:\n",
    "            shutil.move(file, destination_path)"
   ]
  },
  {
   "cell_type": "code",
   "execution_count": 3,
   "metadata": {},
   "outputs": [
    {
     "name": "stdout",
     "output_type": "stream",
     "text": [
      "Overwriting models/score.py\n"
     ]
    }
   ],
   "source": [
    "%%writefile models/score.py\n",
    "import joblib\n",
    "import json\n",
    "import numpy as np\n",
    "import os\n",
    "\n",
    "from inference_schema.schema_decorators import input_schema, output_schema\n",
    "from inference_schema.parameter_types.numpy_parameter_type import NumpyParameterType\n",
    "\n",
    "\n",
    "def init():\n",
    "    global model\n",
    "    # AZUREML_MODEL_DIR is an environment variable created during deployment. Join this path with the filename of the model file.\n",
    "    # It holds the path to the directory that contains the deployed model (./azureml-models/$MODEL_NAME/$VERSION)\n",
    "    # If there are multiple models, this value is the path to the directory containing all deployed models (./azureml-models)\n",
    "    model_path = os.path.join(os.getenv(\"AZUREML_MODEL_DIR\"), \"models/model.pkl\")\n",
    "    # Deserialize the model file back into a sklearn model.\n",
    "    model = joblib.load(model_path)\n",
    "\n",
    "\n",
    "@input_schema(\"data\", NumpyParameterType(input_sample))\n",
    "@output_schema(NumpyParameterType(output_sample))\n",
    "def run(data):\n",
    "    try:\n",
    "        result = model.predict(data)\n",
    "        # You can return any JSON-serializable object.\n",
    "        return \"Here is your result = \" + str(result)\n",
    "    except Exception as e:\n",
    "        error = str(e)\n",
    "        return error"
   ]
  }
 ],
 "metadata": {
  "kernelspec": {
   "display_name": "ban",
   "language": "python",
   "name": "python3"
  },
  "language_info": {
   "codemirror_mode": {
    "name": "ipython",
    "version": 3
   },
   "file_extension": ".py",
   "mimetype": "text/x-python",
   "name": "python",
   "nbconvert_exporter": "python",
   "pygments_lexer": "ipython3",
   "version": "3.10.9"
  }
 },
 "nbformat": 4,
 "nbformat_minor": 2
}
